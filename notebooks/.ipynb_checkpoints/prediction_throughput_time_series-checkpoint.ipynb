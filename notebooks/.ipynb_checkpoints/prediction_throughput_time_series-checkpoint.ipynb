{
 "cells": [
  {
   "cell_type": "markdown",
   "metadata": {},
   "source": [
    "Let’s import the libraries that we are going to use for data manipulation, visualization, training the model, etc."
   ]
  },
  {
   "cell_type": "code",
   "execution_count": 1,
   "metadata": {},
   "outputs": [
    {
     "name": "stderr",
     "output_type": "stream",
     "text": [
      "Using TensorFlow backend.\n"
     ]
    }
   ],
   "source": [
    "# import library to ploting\n",
    "# import matplotlib.ticker as tkr\n",
    "import matplotlib.pyplot as plt\n",
    "# import urllib.request\n",
    "import seaborn as sns\n",
    "sns.set_context(\"paper\", font_scale=1.3)\n",
    "sns.set_style('white')\n",
    "import pandas as pd\n",
    "# pd.set_option('display.float_format', lambda x: '%.4f' % x)\n",
    "%matplotlib inline\n",
    "import numpy as np\n",
    "# avoid alert\n",
    "import warnings\n",
    "warnings.filterwarnings('ignore')\n",
    "# import datetime as dt\n",
    "from scipy import stats\n",
    "# Import library to preprocessing\n",
    "from sklearn.preprocessing import RobustScaler\n",
    "from sklearn.preprocessing import OrdinalEncoder\n",
    "from sklearn.preprocessing import LabelEncoder\n",
    "from sklearn.preprocessing import OneHotEncoder\n",
    "from sklearn.preprocessing import StandardScaler\n",
    "from sklearn.preprocessing import MinMaxScaler\n",
    "from sklearn.preprocessing import RobustScaler\n",
    "# performace metrics libray\n",
    "from sklearn.metrics import mean_squared_error\n",
    "from sklearn.metrics import mean_absolute_error\n",
    "# select the GPU\n",
    "import os\n",
    "os.environ['CUDA_VISIBLE_DEVICES'] = '1' # SET A SINGLE GPU\n",
    "# import library modules keras and tensorflow\n",
    "from keras.layers import *\n",
    "import tensorflow as tf\n",
    "from keras.models import Sequential\n",
    "from keras.layers import Dense\n",
    "from keras.layers import LSTM, GRU, Dropout, Bidirectional\n",
    "import matplotlib.image  as mpimg\n",
    "from keras.models import Model, Input\n",
    "from keras import regularizers\n",
    "from keras.callbacks import TensorBoard, ReduceLROnPlateau, EarlyStopping"
   ]
  },
  {
   "cell_type": "markdown",
   "metadata": {},
   "source": [
    "LSTM "
   ]
  },
  {
   "cell_type": "code",
   "execution_count": 2,
   "metadata": {},
   "outputs": [],
   "source": [
    "# load the dataset\n",
    "dataset_throughput = pd.read_csv('../file/dataset_throughput.csv', header=0)"
   ]
  },
  {
   "cell_type": "code",
   "execution_count": 3,
   "metadata": {},
   "outputs": [],
   "source": [
    "dataset_throughput.set_index('timestamp', inplace=True)\n",
    "dataset_throughput.sort_values('timestamp', inplace=True)"
   ]
  },
  {
   "cell_type": "code",
   "execution_count": 4,
   "metadata": {},
   "outputs": [],
   "source": [
    "# swap some columns positions\n",
    "columnsTitles = ['connect_time','request_ticks','year','month','hour','day','weekday','minute','second','iteration','delta_sys_time','delta_user_time','rate','received','delay','tcp_mean_wind','downthpt']\n",
    "dataset_throughput = dataset_throughput.reindex(columns=columnsTitles)"
   ]
  },
  {
   "cell_type": "markdown",
   "metadata": {},
   "source": [
    "Normalization"
   ]
  },
  {
   "cell_type": "code",
   "execution_count": 11,
   "metadata": {},
   "outputs": [
    {
     "name": "stdout",
     "output_type": "stream",
     "text": [
      "(12245155, 9)\n"
     ]
    }
   ],
   "source": [
    "dataset = dataset_throughput.iloc[:, 8:]\n",
    "dataset = dataset.astype('float')\n",
    "print(dataset.shape)\n",
    "TRAIN_SIZE = int(len(dataset) * 0.60) # 60% train set\n",
    "VALID_SIZE = int(len(dataset) * 0.80) # 20% valid and test set"
   ]
  },
  {
   "cell_type": "code",
   "execution_count": 18,
   "metadata": {},
   "outputs": [],
   "source": [
    "onehot_encoder = OneHotEncoder(sparse=False, categories='auto')\n",
    "second = dataset['second'].values\n",
    "second = np.reshape(second, (-1,1))\n",
    "second = onehot_encoder.fit_transform(second)"
   ]
  },
  {
   "cell_type": "code",
   "execution_count": 21,
   "metadata": {},
   "outputs": [],
   "source": [
    "iteration = dataset['iteration'].values\n",
    "iteration = np.reshape(iteration, (-1,1))\n",
    "iteration = onehot_encoder.fit_transform(iteration)"
   ]
  },
  {
   "cell_type": "code",
   "execution_count": 25,
   "metadata": {},
   "outputs": [],
   "source": [
    "dataset['iteration'] = iteration\n",
    "dataset['second'] = second"
   ]
  },
  {
   "cell_type": "code",
   "execution_count": 28,
   "metadata": {},
   "outputs": [
    {
     "name": "stdout",
     "output_type": "stream",
     "text": [
      "Training Set:  (7347093, 17)\n",
      "Validation Set:  (2449031, 17)\n",
      "Test Set:  (2449031, 17)\n"
     ]
    }
   ],
   "source": [
    "dataset_train = dataset_throughput.iloc[:TRAIN_SIZE, :]\n",
    "print('Training Set: ', dataset_train.shape)\n",
    "\n",
    "dataset_val = dataset_throughput.iloc[TRAIN_SIZE:VALID_SIZE, :]\n",
    "print('Validation Set: ', dataset_val.shape)\n",
    "\n",
    "dataset_test = dataset_throughput.iloc[VALID_SIZE:, :]\n",
    "print('Test Set: ', dataset_test.shape)"
   ]
  },
  {
   "cell_type": "markdown",
   "metadata": {},
   "source": [
    "Scaling the Data"
   ]
  },
  {
   "cell_type": "code",
   "execution_count": 30,
   "metadata": {},
   "outputs": [],
   "source": [
    "# normalization with downthpt!\n",
    "f_columns = ['second', 'iteration', 'delta_sys_time','delta_user_time','rate','received','delay','tcp_mean_wind','downthpt']\n",
    "\n",
    "f_transformer = RobustScaler()\n",
    "thrput_transformer = RobustScaler()\n",
    "\n",
    "f_transformer = f_transformer.fit(dataset_train[f_columns].to_numpy())\n",
    "thrput_transformer = thrput_transformer.fit(dataset_train[['downthpt']])\n",
    "\n",
    "dataset_train.loc[:, f_columns] = f_transformer.transform(dataset_train[f_columns].to_numpy())\n",
    "dataset_train['downthpt'] = thrput_transformer.transform(dataset_train[['downthpt']])\n",
    "\n",
    "dataset_val.loc[:, f_columns] = f_transformer.transform(dataset_val[f_columns].to_numpy())\n",
    "dataset_val['downthpt'] = thrput_transformer.transform(dataset_val[['downthpt']])\n",
    "\n",
    "dataset_test.loc[:, f_columns] = f_transformer.transform(dataset_test[f_columns].to_numpy())\n",
    "dataset_test['downthpt'] = thrput_transformer.transform(dataset_test[['downthpt']])"
   ]
  },
  {
   "cell_type": "code",
   "execution_count": 31,
   "metadata": {},
   "outputs": [],
   "source": [
    "def create_dataset(X, y, time_steps=1):\n",
    "    Xs, ys = [], []\n",
    "    for i in range(len(X) - time_steps):\n",
    "        v = X.iloc[i:(i + time_steps)].values\n",
    "        Xs.append(v)        \n",
    "        ys.append(y.iloc[i + time_steps])\n",
    "    return np.array(Xs), np.array(ys)"
   ]
  },
  {
   "cell_type": "code",
   "execution_count": 32,
   "metadata": {},
   "outputs": [],
   "source": [
    "time_steps = 11\n",
    "# reshape to [samples, time_steps, n_features]\n",
    "X_train, y_train = create_dataset(dataset_train, dataset_train.downthpt, time_steps)\n",
    "X_test, y_test = create_dataset(dataset_val, dataset_val.downthpt, time_steps)\n",
    "X_val, y_val = create_dataset(dataset_test, dataset_test.downthpt, time_steps)"
   ]
  },
  {
   "cell_type": "code",
   "execution_count": 33,
   "metadata": {},
   "outputs": [
    {
     "name": "stdout",
     "output_type": "stream",
     "text": [
      "(7347082, 11, 17) (7347082,) (2449020, 11, 17) (2449020,)\n"
     ]
    }
   ],
   "source": [
    "print(X_train.shape, y_train.shape, X_test.shape, y_test.shape)"
   ]
  },
  {
   "cell_type": "markdown",
   "metadata": {},
   "source": [
    "### Modeling my LSTM with API Keras"
   ]
  },
  {
   "cell_type": "markdown",
   "metadata": {},
   "source": [
    "Bidirectional"
   ]
  },
  {
   "cell_type": "code",
   "execution_count": 47,
   "metadata": {},
   "outputs": [],
   "source": [
    "import keras\n",
    "from keras import optimizers\n",
    "\n",
    "def model_lstm():\n",
    "    input_x = Input(shape=(X_train.shape[1], X_train.shape[2]))\n",
    "    x = Bidirectional(LSTM(units=32, return_sequences=True))(input_x)\n",
    "    x = Bidirectional(LSTM(units=16, activation ='relu'))(x)\n",
    "    x = Dropout(rate=0.2)(x)\n",
    "    x = Dense(units=1, activation='linear')(x)\n",
    "    model = Model(inputs=input_x, outputs=x)\n",
    "    return model"
   ]
  },
  {
   "cell_type": "code",
   "execution_count": 48,
   "metadata": {},
   "outputs": [],
   "source": [
    "def compile_fit():\n",
    "    model = model_lstm()\n",
    "    model.summary()\n",
    "    sgd = optimizers.SGD(lr=0.01, decay=1e-5, momentum=0.9)\n",
    "    model.compile(loss='mean_squared_error', optimizer='adam', metrics=['mae', 'mse'])\n",
    "    history = model.fit(X_train, y_train, \n",
    "                        epochs=20, \n",
    "                        batch_size=11, \n",
    "                        validation_data=(X_test, y_test), \n",
    "                        shuffle=False)\n",
    "    return history, model"
   ]
  },
  {
   "cell_type": "code",
   "execution_count": 49,
   "metadata": {},
   "outputs": [
    {
     "name": "stdout",
     "output_type": "stream",
     "text": [
      "Model: \"model_5\"\n",
      "_________________________________________________________________\n",
      "Layer (type)                 Output Shape              Param #   \n",
      "=================================================================\n",
      "input_5 (InputLayer)         (None, 11, 17)            0         \n",
      "_________________________________________________________________\n",
      "bidirectional_3 (Bidirection (None, 11, 64)            12800     \n",
      "_________________________________________________________________\n",
      "bidirectional_4 (Bidirection (None, 32)                10368     \n",
      "_________________________________________________________________\n",
      "dropout_2 (Dropout)          (None, 32)                0         \n",
      "_________________________________________________________________\n",
      "dense_5 (Dense)              (None, 1)                 33        \n",
      "=================================================================\n",
      "Total params: 23,201\n",
      "Trainable params: 23,201\n",
      "Non-trainable params: 0\n",
      "_________________________________________________________________\n",
      "WARNING:tensorflow:From /usr/local/lib/python3.5/dist-packages/keras/backend/tensorflow_backend.py:422: The name tf.global_variables is deprecated. Please use tf.compat.v1.global_variables instead.\n",
      "\n",
      "Train on 7347082 samples, validate on 2449020 samples\n",
      "Epoch 1/20\n",
      "7347082/7347082 [==============================] - 3910s 532us/step - loss: 7.1540e-05 - mae: 0.0039 - mse: 7.1513e-05 - val_loss: 5.1979e-05 - val_mae: 0.0052 - val_mse: 5.1979e-05\n",
      "Epoch 2/20\n",
      "7347082/7347082 [==============================] - 3906s 532us/step - loss: 4.3289e-05 - mae: 0.0037 - mse: 4.3285e-05 - val_loss: 5.1923e-05 - val_mae: 0.0052 - val_mse: 5.1922e-05\n",
      "Epoch 3/20\n",
      "7347082/7347082 [==============================] - 3909s 532us/step - loss: 4.3288e-05 - mae: 0.0037 - mse: 4.3284e-05 - val_loss: 5.1893e-05 - val_mae: 0.0052 - val_mse: 5.1893e-05\n",
      "Epoch 4/20\n",
      "7347082/7347082 [==============================] - 3907s 532us/step - loss: 4.3285e-05 - mae: 0.0037 - mse: 4.3280e-05 - val_loss: 5.1937e-05 - val_mae: 0.0052 - val_mse: 5.1937e-05\n",
      "Epoch 5/20\n",
      "7347082/7347082 [==============================] - 3907s 532us/step - loss: 4.3278e-05 - mae: 0.0037 - mse: 4.3274e-05 - val_loss: 5.1892e-05 - val_mae: 0.0052 - val_mse: 5.1892e-05\n",
      "Epoch 6/20\n",
      "7347082/7347082 [==============================] - 3907s 532us/step - loss: 4.3278e-05 - mae: 0.0037 - mse: 4.3274e-05 - val_loss: 5.1946e-05 - val_mae: 0.0052 - val_mse: 5.1945e-05\n",
      "Epoch 7/20\n",
      "7347082/7347082 [==============================] - 3906s 532us/step - loss: 4.3289e-05 - mae: 0.0037 - mse: 4.3285e-05 - val_loss: 5.1972e-05 - val_mae: 0.0052 - val_mse: 5.1972e-05\n",
      "Epoch 8/20\n",
      "7347082/7347082 [==============================] - 3905s 532us/step - loss: 4.3291e-05 - mae: 0.0037 - mse: 4.3287e-05 - val_loss: 5.2007e-05 - val_mae: 0.0052 - val_mse: 5.2007e-05\n",
      "Epoch 9/20\n",
      "7347082/7347082 [==============================] - 3910s 532us/step - loss: 4.3290e-05 - mae: 0.0037 - mse: 4.3286e-05 - val_loss: 5.1998e-05 - val_mae: 0.0052 - val_mse: 5.1998e-05\n",
      "Epoch 10/20\n",
      "7347082/7347082 [==============================] - 3904s 531us/step - loss: 4.3288e-05 - mae: 0.0037 - mse: 4.3284e-05 - val_loss: 5.1956e-05 - val_mae: 0.0052 - val_mse: 5.1955e-05\n",
      "Epoch 11/20\n",
      "7347082/7347082 [==============================] - 3910s 532us/step - loss: 4.3288e-05 - mae: 0.0037 - mse: 4.3284e-05 - val_loss: 5.1991e-05 - val_mae: 0.0052 - val_mse: 5.1991e-05\n",
      "Epoch 12/20\n",
      "7347082/7347082 [==============================] - 3906s 532us/step - loss: 4.3288e-05 - mae: 0.0037 - mse: 4.3284e-05 - val_loss: 5.1963e-05 - val_mae: 0.0052 - val_mse: 5.1963e-05\n",
      "Epoch 13/20\n",
      "7347082/7347082 [==============================] - 3904s 531us/step - loss: 4.3297e-05 - mae: 0.0037 - mse: 4.3294e-05 - val_loss: 5.2040e-05 - val_mae: 0.0053 - val_mse: 5.2040e-05\n",
      "Epoch 14/20\n",
      "7347082/7347082 [==============================] - 3909s 532us/step - loss: 4.3301e-05 - mae: 0.0037 - mse: 4.3297e-05 - val_loss: 5.2040e-05 - val_mae: 0.0053 - val_mse: 5.2040e-05\n",
      "Epoch 15/20\n",
      "7347082/7347082 [==============================] - 3909s 532us/step - loss: 4.3301e-05 - mae: 0.0037 - mse: 4.3297e-05 - val_loss: 5.2040e-05 - val_mae: 0.0053 - val_mse: 5.2040e-05\n",
      "Epoch 16/20\n",
      "7347082/7347082 [==============================] - 3906s 532us/step - loss: 4.3301e-05 - mae: 0.0037 - mse: 4.3297e-05 - val_loss: 5.2040e-05 - val_mae: 0.0053 - val_mse: 5.2040e-05\n",
      "Epoch 17/20\n",
      "7347082/7347082 [==============================] - 3903s 531us/step - loss: 4.3301e-05 - mae: 0.0037 - mse: 4.3297e-05 - val_loss: 5.2040e-05 - val_mae: 0.0053 - val_mse: 5.2040e-05\n",
      "Epoch 18/20\n",
      "7347082/7347082 [==============================] - 3908s 532us/step - loss: 4.3301e-05 - mae: 0.0037 - mse: 4.3297e-05 - val_loss: 5.2040e-05 - val_mae: 0.0053 - val_mse: 5.2040e-05\n",
      "Epoch 19/20\n",
      "7347082/7347082 [==============================] - 3907s 532us/step - loss: 4.3301e-05 - mae: 0.0037 - mse: 4.3297e-05 - val_loss: 5.2040e-05 - val_mae: 0.0053 - val_mse: 5.2040e-05\n",
      "Epoch 20/20\n",
      "7347082/7347082 [==============================] - 3908s 532us/step - loss: 4.3301e-05 - mae: 0.0037 - mse: 4.3297e-05 - val_loss: 5.2040e-05 - val_mae: 0.0053 - val_mse: 5.2040e-05\n"
     ]
    }
   ],
   "source": [
    "hist, model = compile_fit()"
   ]
  },
  {
   "cell_type": "code",
   "execution_count": 53,
   "metadata": {},
   "outputs": [],
   "source": [
    "y_pred = model.predict(X_val)"
   ]
  },
  {
   "cell_type": "code",
   "execution_count": 54,
   "metadata": {},
   "outputs": [],
   "source": [
    "y_train_inv = thrput_transformer.inverse_transform(y_train.reshape(1, -1))"
   ]
  },
  {
   "cell_type": "code",
   "execution_count": 58,
   "metadata": {},
   "outputs": [],
   "source": [
    "y_val_inv = thrput_transformer.inverse_transform(y_val.reshape(1, -1))"
   ]
  },
  {
   "cell_type": "code",
   "execution_count": 60,
   "metadata": {},
   "outputs": [],
   "source": [
    "y_pred_inv = thrput_transformer.inverse_transform(y_pred)"
   ]
  },
  {
   "cell_type": "code",
   "execution_count": 65,
   "metadata": {},
   "outputs": [
    {
     "data": {
      "image/png": "[encoded data removed]",
      "text/plain": [
       "<Figure size 432x288 with 1 Axes>"
      ]
     },
     "metadata": {
      "needs_background": "light"
     },
     "output_type": "display_data"
    }
   ],
   "source": [
    "def plot_prediction(y_train, y_train_inv, y_val, y_val_inv):\n",
    "    plt.plot(np.arange(0, len(y_train)), y_train_inv.flatten(), 'g', label=\"history\")\n",
    "    plt.plot(np.arange(len(y_train), len(y_train) + len(y_val)), y_val_inv.flatten(), marker='.', label=\"true\")\n",
    "    plt.plot(np.arange(len(y_train), len(y_train) + len(y_val)), y_pred_inv.flatten(), 'r', label=\"prediction\")\n",
    "    plt.ylabel('Throughput')\n",
    "    plt.xlabel('Time Step')\n",
    "    plt.legend()\n",
    "    plt.savefig(os.path.join('./plots', 'prediction.eps'))\n",
    "    plt.show();\n",
    "plot_prediction(y_train, y_train_inv, y_val, y_val_inv)"
   ]
  },
  {
   "cell_type": "code",
   "execution_count": 68,
   "metadata": {},
   "outputs": [
    {
     "data": {
      "image/png": "[encoded data removed]",
      "text/plain": [
       "<Figure size 432x288 with 1 Axes>"
      ]
     },
     "metadata": {
      "needs_background": "light"
     },
     "output_type": "display_data"
    }
   ],
   "source": [
    "def plot_prediction_(y_pred_inv, y_val_inv):\n",
    "    plt.plot(y_val_inv.flatten(), marker='.', label=\"true\")\n",
    "    plt.plot(y_pred_inv.flatten(), 'r', label=\"prediction\")\n",
    "    plt.ylabel('Throughput')\n",
    "    plt.xlabel('Time Step')\n",
    "    plt.legend()\n",
    "    plt.savefig(os.path.join('./plots', 'prediction_detail.eps'))\n",
    "    plt.show();\n",
    "plot_prediction_(y_pred_inv, y_val_inv)"
   ]
  },
  {
   "cell_type": "code",
   "execution_count": 40,
   "metadata": {},
   "outputs": [],
   "source": [
    "# plot da perda do modelo"
   ]
  },
  {
   "cell_type": "code",
   "execution_count": 51,
   "metadata": {},
   "outputs": [
    {
     "data": {
      "image/png": "[encoded data removed]",
      "text/plain": [
       "<Figure size 432x288 with 1 Axes>"
      ]
     },
     "metadata": {
      "needs_background": "light"
     },
     "output_type": "display_data"
    }
   ],
   "source": [
    "def plot_history_metrics(history):\n",
    "    # plot metrics\n",
    "    plt.plot(history.history['mae'], marker='.')\n",
    "    plt.plot(history.history['mse'], marker='.')\n",
    "    plt.ylabel('loss')\n",
    "    plt.xlabel('epoch')\n",
    "    plt.grid()\n",
    "    plt.legend(['mae', 'mse'], loc='best')\n",
    "    # plt.savefig(os.path.join('./plots', 'mse.eps'))\n",
    "    plt.show()\n",
    "    \n",
    "plot_history_metrics(hist)"
   ]
  },
  {
   "cell_type": "code",
   "execution_count": 52,
   "metadata": {},
   "outputs": [
    {
     "data": {
      "image/png": "[encoded data removed]",
      "text/plain": [
       "<Figure size 432x288 with 1 Axes>"
      ]
     },
     "metadata": {
      "needs_background": "light"
     },
     "output_type": "display_data"
    }
   ],
   "source": [
    "def plot_history_loss(history):\n",
    "    #-----------------------------------------------------------\n",
    "    # Retrieve a list of list results on training and test data\n",
    "    # sets for each training epoch\n",
    "    #-----------------------------------------------------------\n",
    "    # loss=history.history['loss']\n",
    "    # val_loss=history.history['val_loss']\n",
    "    # epochs=range(len(loss)) # Get number of epochs\n",
    "    \n",
    "    plt.plot(history.history['loss'], label='training')\n",
    "    plt.plot(history.history['val_loss'], label='vaidation')\n",
    "    plt.xlabel(\"epochs\")\n",
    "    plt.ylabel(\"loss\")\n",
    "    plt.legend();\n",
    "    # plt.savefig(os.path.join('./plots', 'loss.eps'))\n",
    "\n",
    "    #------------------------------------------------\n",
    "    # Plot training and validation loss per epoch\n",
    "    #------------------------------------------------\n",
    "    # plt.plot(epochs, loss, val_loss)\n",
    "    # plt.title('Training loss')\n",
    "    # plt.xlabel(\"Epochs\")\n",
    "    # plt.ylabel(\"Loss\")\n",
    "    # plt.legend([\"Loss\"])\n",
    "    \n",
    "plot_history_loss(hist)"
   ]
  },
  {
   "cell_type": "code",
   "execution_count": null,
   "metadata": {},
   "outputs": [],
   "source": []
  }
 ],
 "metadata": {
  "kernelspec": {
   "display_name": "Python 3",
   "language": "python",
   "name": "python3"
  },
  "language_info": {
   "codemirror_mode": {
    "name": "ipython",
    "version": 3
   },
   "file_extension": ".py",
   "mimetype": "text/x-python",
   "name": "python",
   "nbconvert_exporter": "python",
   "pygments_lexer": "ipython3",
   "version": "3.5.2"
  }
 },
 "nbformat": 4,
 "nbformat_minor": 2
}
