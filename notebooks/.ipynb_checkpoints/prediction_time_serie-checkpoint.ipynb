{
 "cells": [
  {
   "cell_type": "markdown",
   "metadata": {},
   "source": [
    "Let’s import the libraries that we are going to use for data manipulation, visualization, training the model, etc."
   ]
  },
  {
   "cell_type": "code",
   "execution_count": 1,
   "metadata": {},
   "outputs": [
    {
     "name": "stderr",
     "output_type": "stream",
     "text": [
      "Using TensorFlow backend.\n"
     ]
    }
   ],
   "source": [
    "import matplotlib.pyplot as plt\n",
    "import seaborn as sns\n",
    "sns.set_context(\"paper\", font_scale=1.3)\n",
    "sns.set_style('white')\n",
    "import pandas as pd\n",
    "from math import sqrt\n",
    "%matplotlib inline\n",
    "import numpy as np\n",
    "import csv\n",
    "\n",
    "# avoid alert\n",
    "import warnings\n",
    "warnings.filterwarnings('ignore')\n",
    "\n",
    "from scipy import stats\n",
    "# Import library to preprocessing\n",
    "from sklearn.preprocessing import RobustScaler\n",
    "from sklearn.preprocessing import OrdinalEncoder\n",
    "from sklearn.preprocessing import LabelEncoder\n",
    "from sklearn.preprocessing import OneHotEncoder\n",
    "from sklearn.preprocessing import StandardScaler\n",
    "from sklearn.preprocessing import MinMaxScaler\n",
    "from sklearn.preprocessing import RobustScaler\n",
    "\n",
    "# performace metrics libray\n",
    "from sklearn.metrics import mean_squared_error\n",
    "from sklearn.metrics import mean_absolute_error\n",
    "\n",
    "# select the GPU\n",
    "import os\n",
    "os.environ['CUDA_VISIBLE_DEVICES'] = '1' # SET A SINGLE GPU\n",
    "# import library modules keras and tensorflow\n",
    "import tensorflow_docs as tfdocs\n",
    "import tensorflow_docs.plots\n",
    "import tensorflow_docs.modeling\n",
    "from tensorflow import keras\n",
    "from keras import optimizers, regularizers\n",
    "\n",
    "import keras\n",
    "from tensorflow.keras import backend as K\n",
    "from keras.layers import *\n",
    "import tensorflow as tf\n",
    "from keras.layers.advanced_activations import LeakyReLU, PReLU\n",
    "from keras.layers import MaxPool1D, Activation, Conv1D, Conv2D, MaxPool2D, Flatten, TimeDistributed, Reshape\n",
    "from keras.layers import Dense, LSTM, GRU, Dropout, Bidirectional, BatchNormalization\n",
    "from keras.models import Model, Input, Sequential\n",
    "from keras.callbacks import TensorBoard, ReduceLROnPlateau, EarlyStopping"
   ]
  },
  {
   "cell_type": "code",
   "execution_count": 12,
   "metadata": {},
   "outputs": [],
   "source": [
    "def transform_txt():\n",
    "    with open('../../file/dataset.txt', \"w\") as output_file:\n",
    "        with open('../../file/dataset.csv', \"r\") as input_file:\n",
    "            [ output_file.write(\" \".join(row)+'\\n') for row in csv.reader(input_file)]\n",
    "    output_file.close()"
   ]
  },
  {
   "cell_type": "code",
   "execution_count": 2,
   "metadata": {},
   "outputs": [
    {
     "data": {
      "text/plain": [
       "(12245155, 17)"
      ]
     },
     "execution_count": 2,
     "metadata": {},
     "output_type": "execute_result"
    }
   ],
   "source": [
    "# load the dataset\n",
    "dataset_throughput = pd.read_csv('../../data/dataset_throughput.csv', header=0, low_memory=True)\n",
    "dataset_throughput.set_index('timestamp', inplace=True)\n",
    "dataset_throughput.shape\n",
    "# dataset_throughput.sort_values('timestamp', inplace=True)\n",
    "# remove duplicate rows\n",
    "# dataset_throughput = data.drop_duplicates(keep=False) "
   ]
  },
  {
   "cell_type": "code",
   "execution_count": 3,
   "metadata": {},
   "outputs": [
    {
     "data": {
      "text/plain": [
       "\"\\ncol = ['year','month','day','weekday','hour','minute','second','iteration','delta_user_time','received','connect_time','rate','delta_sys_time','request_ticks','tcp_mean_wind','delay','downthpt']\\ndataset_throughput = dataset_throughput.reindex(columns=col)\\ndataset_throughput.to_csv('../../file/dataset_small.txt', encoding='utf-8', index=False, header=False, sep=',', mode='w')\\nrawdata = np.loadtxt('../../file/dataset_small.txt', delimiter=',')\\nrawdata.shape\\n\""
      ]
     },
     "execution_count": 3,
     "metadata": {},
     "output_type": "execute_result"
    }
   ],
   "source": [
    "\"\"\"\n",
    "col = ['year','month','day','weekday','hour','minute','second','iteration','delta_user_time','received','connect_time','rate','delta_sys_time','request_ticks','tcp_mean_wind','delay','downthpt']\n",
    "dataset_throughput = dataset_throughput.reindex(columns=col)\n",
    "dataset_throughput.to_csv('../../file/dataset_small.txt', encoding='utf-8', index=False, header=False, sep=',', mode='w')\n",
    "rawdata = np.loadtxt('../../file/dataset_small.txt', delimiter=',')\n",
    "rawdata.shape\n",
    "\"\"\""
   ]
  },
  {
   "cell_type": "code",
   "execution_count": null,
   "metadata": {},
   "outputs": [],
   "source": [
    "# dataset_test.to_csv('../../file/dataset_test.csv', encoding='utf-8', index=False)"
   ]
  },
  {
   "cell_type": "code",
   "execution_count": 3,
   "metadata": {},
   "outputs": [],
   "source": [
    "## Mutual Information-Regression ##\n",
    "columnsTitles = ['year',\n",
    "                 'connect_time',\n",
    "                 'delay',\n",
    "                 'hour',\n",
    "                 'minute',\n",
    "                 'month',\n",
    "                 'request_ticks',\n",
    "                 'day',\n",
    "                 'second',\n",
    "                 'weekday',\n",
    "                 'iteration',\n",
    "                 'delta_sys_time',\n",
    "                 'tcp_mean_wind',\n",
    "                 'rate',\n",
    "                 'received',\n",
    "                 'delta_user_time',\n",
    "                 'downthpt']"
   ]
  },
  {
   "cell_type": "code",
   "execution_count": 4,
   "metadata": {},
   "outputs": [],
   "source": [
    "# change some columns positions according feature selection: Recursive Feature Selection (RFE)\n",
    "# columnsTitles = ['delta_sys_time','year','month','weekday','day','hour','minute','second','iteration','connect_time','request_ticks','delta_user_time','rate','received','delay','tcp_mean_wind','downthpt']\n",
    "dataset_throughput = dataset_throughput.reindex(columns=columnsTitles)"
   ]
  },
  {
   "cell_type": "markdown",
   "metadata": {},
   "source": [
    "Normalization"
   ]
  },
  {
   "cell_type": "code",
   "execution_count": 6,
   "metadata": {},
   "outputs": [
    {
     "name": "stdout",
     "output_type": "stream",
     "text": [
      "(12245155, 9)\n"
     ]
    }
   ],
   "source": [
    "# dataset = dataset_throughput.iloc[:, 4:]\n",
    "dataset = dataset_throughput.iloc[:, 8:]\n",
    "dataset = dataset.astype('float32')\n",
    "print(dataset.shape)\n",
    "TRAIN_SIZE = int(len(dataset) * 0.60) # 60% train set\n",
    "VALID_SIZE = int(len(dataset) * 0.80) # 20% valid and test set"
   ]
  },
  {
   "cell_type": "code",
   "execution_count": 20,
   "metadata": {},
   "outputs": [
    {
     "data": {
      "text/html": [
       "<div>\n",
       "<style scoped>\n",
       "    .dataframe tbody tr th:only-of-type {\n",
       "        vertical-align: middle;\n",
       "    }\n",
       "\n",
       "    .dataframe tbody tr th {\n",
       "        vertical-align: top;\n",
       "    }\n",
       "\n",
       "    .dataframe thead th {\n",
       "        text-align: right;\n",
       "    }\n",
       "</style>\n",
       "<table border=\"1\" class=\"dataframe\">\n",
       "  <thead>\n",
       "    <tr style=\"text-align: right;\">\n",
       "      <th></th>\n",
       "      <th>second</th>\n",
       "      <th>weekday</th>\n",
       "      <th>iteration</th>\n",
       "      <th>delta_sys_time</th>\n",
       "      <th>tcp_mean_wind</th>\n",
       "      <th>rate</th>\n",
       "      <th>received</th>\n",
       "      <th>delta_user_time</th>\n",
       "      <th>downthpt</th>\n",
       "    </tr>\n",
       "    <tr>\n",
       "      <th>timestamp</th>\n",
       "      <th></th>\n",
       "      <th></th>\n",
       "      <th></th>\n",
       "      <th></th>\n",
       "      <th></th>\n",
       "      <th></th>\n",
       "      <th></th>\n",
       "      <th></th>\n",
       "      <th></th>\n",
       "    </tr>\n",
       "  </thead>\n",
       "  <tbody>\n",
       "    <tr>\n",
       "      <th>2015-01-15 00:02:14</th>\n",
       "      <td>14.0</td>\n",
       "      <td>3.0</td>\n",
       "      <td>0.0</td>\n",
       "      <td>0.01</td>\n",
       "      <td>6.335280</td>\n",
       "      <td>100.0</td>\n",
       "      <td>25129.0</td>\n",
       "      <td>0.00</td>\n",
       "      <td>43.038555</td>\n",
       "    </tr>\n",
       "    <tr>\n",
       "      <th>2015-01-15 00:02:15</th>\n",
       "      <td>15.0</td>\n",
       "      <td>3.0</td>\n",
       "      <td>1.0</td>\n",
       "      <td>0.00</td>\n",
       "      <td>24.837669</td>\n",
       "      <td>300.0</td>\n",
       "      <td>75129.0</td>\n",
       "      <td>0.01</td>\n",
       "      <td>168.734039</td>\n",
       "    </tr>\n",
       "    <tr>\n",
       "      <th>2015-01-15 00:02:15</th>\n",
       "      <td>15.0</td>\n",
       "      <td>3.0</td>\n",
       "      <td>2.0</td>\n",
       "      <td>0.00</td>\n",
       "      <td>71.107628</td>\n",
       "      <td>1200.0</td>\n",
       "      <td>300130.0</td>\n",
       "      <td>0.01</td>\n",
       "      <td>483.067780</td>\n",
       "    </tr>\n",
       "    <tr>\n",
       "      <th>2015-01-15 00:02:17</th>\n",
       "      <td>17.0</td>\n",
       "      <td>3.0</td>\n",
       "      <td>3.0</td>\n",
       "      <td>0.01</td>\n",
       "      <td>63.043015</td>\n",
       "      <td>3000.0</td>\n",
       "      <td>750130.0</td>\n",
       "      <td>0.02</td>\n",
       "      <td>428.281036</td>\n",
       "    </tr>\n",
       "    <tr>\n",
       "      <th>2015-01-15 00:02:19</th>\n",
       "      <td>19.0</td>\n",
       "      <td>3.0</td>\n",
       "      <td>4.0</td>\n",
       "      <td>0.02</td>\n",
       "      <td>68.472450</td>\n",
       "      <td>3000.0</td>\n",
       "      <td>750130.0</td>\n",
       "      <td>0.02</td>\n",
       "      <td>465.165771</td>\n",
       "    </tr>\n",
       "  </tbody>\n",
       "</table>\n",
       "</div>"
      ],
      "text/plain": [
       "                     second  weekday  iteration  delta_sys_time  \\\n",
       "timestamp                                                         \n",
       "2015-01-15 00:02:14    14.0      3.0        0.0            0.01   \n",
       "2015-01-15 00:02:15    15.0      3.0        1.0            0.00   \n",
       "2015-01-15 00:02:15    15.0      3.0        2.0            0.00   \n",
       "2015-01-15 00:02:17    17.0      3.0        3.0            0.01   \n",
       "2015-01-15 00:02:19    19.0      3.0        4.0            0.02   \n",
       "\n",
       "                     tcp_mean_wind    rate  received  delta_user_time  \\\n",
       "timestamp                                                               \n",
       "2015-01-15 00:02:14       6.335280   100.0   25129.0             0.00   \n",
       "2015-01-15 00:02:15      24.837669   300.0   75129.0             0.01   \n",
       "2015-01-15 00:02:15      71.107628  1200.0  300130.0             0.01   \n",
       "2015-01-15 00:02:17      63.043015  3000.0  750130.0             0.02   \n",
       "2015-01-15 00:02:19      68.472450  3000.0  750130.0             0.02   \n",
       "\n",
       "                       downthpt  \n",
       "timestamp                        \n",
       "2015-01-15 00:02:14   43.038555  \n",
       "2015-01-15 00:02:15  168.734039  \n",
       "2015-01-15 00:02:15  483.067780  \n",
       "2015-01-15 00:02:17  428.281036  \n",
       "2015-01-15 00:02:19  465.165771  "
      ]
     },
     "execution_count": 20,
     "metadata": {},
     "output_type": "execute_result"
    }
   ],
   "source": [
    "dataset.head()"
   ]
  },
  {
   "cell_type": "code",
   "execution_count": 14,
   "metadata": {},
   "outputs": [],
   "source": [
    "data_small = dataset.iloc[:20000:].values"
   ]
  },
  {
   "cell_type": "code",
   "execution_count": 14,
   "metadata": {},
   "outputs": [],
   "source": [
    "data_small.to_csv('../../data/dataset_small.txt', encoding='utf-8', index=False, header=False, sep=',', mode='w')"
   ]
  },
  {
   "cell_type": "code",
   "execution_count": 6,
   "metadata": {},
   "outputs": [],
   "source": [
    "def one_hot_encoder(df, col):\n",
    "    onehot_encoder = OneHotEncoder(sparse=False, categories='auto')\n",
    "    for c in col:        \n",
    "        v = df[c].values\n",
    "        v = np.reshape(v, (-1,1))\n",
    "        v = onehot_encoder.fit_transform(v)\n",
    "        df[c] = v\n",
    "    return df"
   ]
  },
  {
   "cell_type": "code",
   "execution_count": 23,
   "metadata": {},
   "outputs": [],
   "source": [
    "def create_dataset(X, y, time_steps=1):\n",
    "    Xs, ys = [], []\n",
    "    for i in range(len(X) - time_steps):\n",
    "        v = X[i:(i + time_steps)]\n",
    "        Xs.append(v)        \n",
    "        ys.append(y[i + time_steps])\n",
    "    return np.array(Xs), np.array(ys)"
   ]
  },
  {
   "cell_type": "code",
   "execution_count": 17,
   "metadata": {},
   "outputs": [],
   "source": [
    "def normalise_data(rawdata, normalise=2):\n",
    "    rows, cols = rawdata.shape\n",
    "    data = np.zeros(rawdata.shape)\n",
    "    scale = np.ones(cols, dtype='float32')\n",
    "    if normalise == 0: # do not normalise\n",
    "        data = rawdata\n",
    "        \n",
    "    if normalise == 1: # same normalisation for all timeseries\n",
    "        data = rawdata / np.max(rawdata)\n",
    "        \n",
    "    if normalise == 2: # normalise each timeseries alone. This is the default mode\n",
    "        for i in range(cols):\n",
    "            scale[i] = np.max(np.abs(rawdata[:, i]))\n",
    "            data[:, i] = rawdata[:, i] / scale[i]\n",
    "    return data"
   ]
  },
  {
   "cell_type": "code",
   "execution_count": 18,
   "metadata": {},
   "outputs": [],
   "source": [
    "data = normalise_data(dataset, 2)"
   ]
  },
  {
   "cell_type": "code",
   "execution_count": 9,
   "metadata": {},
   "outputs": [],
   "source": [
    "# here we going to normalize the categorical features with One Hot Encoder\n",
    "# col = ['second','weekday','iteration']"
   ]
  },
  {
   "cell_type": "code",
   "execution_count": 21,
   "metadata": {},
   "outputs": [
    {
     "name": "stdout",
     "output_type": "stream",
     "text": [
      "\n",
      "Training Set:  (7347093, 9)\n",
      "\n",
      "Validation Set:  (2449031, 9)\n",
      "\n",
      "Test Set:  (2449031, 9)\n"
     ]
    }
   ],
   "source": [
    "# dataset = one_hot_encoder(dataset, col)\n",
    "dataset_train = data[:TRAIN_SIZE, :]\n",
    "print('\\nTraining Set: ', dataset_train.shape)\n",
    "\n",
    "dataset_val = data[TRAIN_SIZE:VALID_SIZE, :]\n",
    "print('\\nValidation Set: ', dataset_val.shape)\n",
    "\n",
    "dataset_test = data[VALID_SIZE:, :]\n",
    "print('\\nTest Set: ', dataset_test.shape)"
   ]
  },
  {
   "cell_type": "code",
   "execution_count": 18,
   "metadata": {},
   "outputs": [],
   "source": [
    "# dataset_val.to_csv('../../file/dataset_train.txt', encoding='utf-8', index=False, header=False, sep=',', mode='w')\n",
    "# dataset_test.to_csv('../../file/dataset_test.csv', encoding='utf-8', index=False)"
   ]
  },
  {
   "cell_type": "code",
   "execution_count": 11,
   "metadata": {},
   "outputs": [],
   "source": [
    "# We are going to use StandardScaler from sklearn library to scale the data\n",
    "scaler = MinMaxScaler(feature_range=(0, 1))\n",
    "# scaler = StandardScaler()\n",
    "train_arr = scaler.fit_transform(dataset_train)\n",
    "val_arr = scaler.transform(dataset_val)\n",
    "test_arr = scaler.transform(dataset_test)"
   ]
  },
  {
   "cell_type": "code",
   "execution_count": null,
   "metadata": {},
   "outputs": [],
   "source": [
    "# split into input and outputs\n",
    "# train_X, train_y = train_arr[:, :-1], train_arr[:, -1]\n",
    "# val_X, val_y = val_arr[:, :-1], val_arr[:, -1]\n",
    "# test_X, test_y = test_arr[:, :-1], test_arr[:, -1]"
   ]
  },
  {
   "cell_type": "code",
   "execution_count": null,
   "metadata": {},
   "outputs": [],
   "source": [
    "# reshape input to be 3D [samples, timesteps, features]\n",
    "# train_X = train_X.reshape((train_X.shape[0], 1, train_X.shape[1]))\n",
    "# val_X = val_X.reshape((val_X.shape[0], 1, val_X.shape[1]))\n",
    "# test_X = test_X.reshape((test_X.shape[0], 1, test_X.shape[1]))\n",
    "# print(train_X.shape, train_y.shape, val_X.shape, val_y.shape)"
   ]
  },
  {
   "cell_type": "code",
   "execution_count": null,
   "metadata": {},
   "outputs": [],
   "source": [
    "# time window \n",
    "# time_steps = 5\n",
    "# X_train, y_train = transform_dataset(train_arr, time_steps)\n",
    "# X_test, y_test = transform_dataset(val_arr, time_steps)\n",
    "# X_val, y_val = transform_dataset(test_arr, time_steps)\n",
    "# print(X_train.shape, y_train.shape, X_test.shape, y_test.shape)"
   ]
  },
  {
   "cell_type": "markdown",
   "metadata": {},
   "source": [
    "Scaling the with Data RobustScaler"
   ]
  },
  {
   "cell_type": "code",
   "execution_count": 12,
   "metadata": {},
   "outputs": [
    {
     "name": "stdout",
     "output_type": "stream",
     "text": [
      "\n",
      "Finished normalization...\n"
     ]
    }
   ],
   "source": [
    "# normalization without downthpt!\n",
    "f_columns = ['second',\n",
    "             'weekday',\n",
    "             'iteration',\n",
    "             'delta_sys_time',\n",
    "             'tcp_mean_wind',\n",
    "             'rate',\n",
    "             'received',\n",
    "             'delta_user_time']\n",
    "\n",
    "scaler_transf = MinMaxScaler(feature_range=(0, 1))\n",
    "scaler_target = MinMaxScaler(feature_range=(0, 1))\n",
    "# f_transformer = StandardScaler()\n",
    "# thrput_transformer = StandardScaler()\n",
    "\n",
    "scaler_transf = scaler_transf.fit(dataset_train[f_columns].to_numpy())\n",
    "# scaler_target = scaler_target.fit(dataset_train[['downthpt']])\n",
    "\n",
    "dataset_train.loc[:, f_columns] = scaler_transf.transform(dataset_train[f_columns].to_numpy())\n",
    "# dataset_train['downthpt'] = scaler_target.transform(dataset_train[['downthpt']])\n",
    "\n",
    "dataset_val.loc[:, f_columns] = scaler_transf.transform(dataset_val[f_columns].to_numpy())\n",
    "# dataset_val['downthpt'] = scaler_target.transform(dataset_val[['downthpt']])\n",
    "\n",
    "dataset_test.loc[:, f_columns] = scaler_transf.transform(dataset_test[f_columns].to_numpy())\n",
    "# dataset_test['downthpt'] = scaler_target.transform(dataset_test[['downthpt']])\n",
    "print('\\nFinished normalization...')"
   ]
  },
  {
   "cell_type": "code",
   "execution_count": 13,
   "metadata": {},
   "outputs": [],
   "source": [
    "train_arr = dataset_train.values\n",
    "val_arr = dataset_val.values\n",
    "test_arr = dataset_test.values"
   ]
  },
  {
   "cell_type": "code",
   "execution_count": 24,
   "metadata": {},
   "outputs": [
    {
     "name": "stdout",
     "output_type": "stream",
     "text": [
      "(7347088, 5, 9) (7347088,) (2449026, 5, 9) (2449026,)\n"
     ]
    }
   ],
   "source": [
    "time_steps = 5\n",
    "# reshape to [samples, time_steps, n_features]\n",
    "X_train, y_train = create_dataset(dataset_train, dataset_train[:, -1], time_steps)\n",
    "X_val, y_val = create_dataset(dataset_val, dataset_val[:, -1], time_steps)\n",
    "X_test, y_test = create_dataset(dataset_test, dataset_test[:, -1], time_steps)\n",
    "print(X_train.shape, y_train.shape, X_test.shape, y_test.shape)"
   ]
  },
  {
   "cell_type": "markdown",
   "metadata": {},
   "source": [
    "### Modeling my LSTM with API Keras"
   ]
  },
  {
   "cell_type": "code",
   "execution_count": 25,
   "metadata": {},
   "outputs": [],
   "source": [
    "def create_model(train):\n",
    "    input_x = Input(shape=(train.shape[1], train.shape[2]))\n",
    "    x = Conv1D(filters=64, kernel_size=2, strides=1)(input_x)\n",
    "    x = Activation('relu')(x)\n",
    "    x = GRU(units=64, kernel_initializer='glorot_uniform', return_sequences=True)(input_x)\n",
    "    x = Activation('relu')(x)\n",
    "    x = GRU(units=64, kernel_initializer='glorot_uniform', return_sequences=False)(x)\n",
    "    x = Activation('relu')(x)\n",
    "    x = Dropout(rate=0.5)(x)\n",
    "    x = Dense(units=1)(x)\n",
    "    model = Model(inputs=input_x, outputs=x)\n",
    "    return model"
   ]
  },
  {
   "cell_type": "code",
   "execution_count": 26,
   "metadata": {},
   "outputs": [],
   "source": [
    "def compile_fit(train, target_train, test, target_test):\n",
    "    model = create_model(train)\n",
    "    model.summary()\n",
    "    sgd_0 = optimizers.SGD(lr=0.001, decay=1e-2)\n",
    "    sgd_1 = optimizers.SGD(lr=0.5, decay=0, nesterov=True)\n",
    "    sgd_2 = optimizers.Adam(learning_rate=0.001)\n",
    "    model.compile(loss='mean_squared_error', optimizer=sgd_0, metrics=['mean_absolute_error', 'mean_squared_error'])\n",
    "    history = model.fit(train, target_train,\n",
    "                        epochs=4, \n",
    "                        batch_size=64, \n",
    "                        validation_data=(test, target_test), \n",
    "                        shuffle=False,\n",
    "                        verbose=1)\n",
    "    return history, model"
   ]
  },
  {
   "cell_type": "code",
   "execution_count": null,
   "metadata": {},
   "outputs": [],
   "source": [
    "hist, model = compile_fit(X_train, y_train, X_val, y_val)"
   ]
  },
  {
   "cell_type": "code",
   "execution_count": null,
   "metadata": {},
   "outputs": [],
   "source": [
    "yhat = model.predict(test_X)\n",
    "val_X = val_X.reshape((val_X.shape[0], val_X.shape[2]))\n",
    "# invert scaling for forecast\n",
    "inv_yhat = np.concatenate((yhat, val_X), axis=1)\n",
    "inv_yhat = scaler.inverse_transform(inv_yhat)\n",
    "inv_yhat = inv_yhat[:,0]\n",
    "# invert scaling for actual\n",
    "val_y = val_y.reshape((len(val_y), 1))\n",
    "inv_y = np.concatenate((val_y, val_X), axis=1)\n",
    "inv_y = scaler.inverse_transform(inv_y)\n",
    "inv_y = inv_y[:,0]\n",
    "# calculate RMSE\n",
    "rmse = sqrt(mean_squared_error(inv_y, inv_yhat))\n",
    "print('Test RMSE: %.3f' % rmse)\n",
    "\n",
    "# calculate MAE\n",
    "mae = sqrt(mean_absolute_error(inv_y, inv_yhat))\n",
    "print('Test MAE: %.3f' % mae)"
   ]
  },
  {
   "cell_type": "code",
   "execution_count": 35,
   "metadata": {},
   "outputs": [],
   "source": [
    "# make predictions whith test set with\n",
    "y_pred = model.predict(X_test)"
   ]
  },
  {
   "cell_type": "code",
   "execution_count": 41,
   "metadata": {},
   "outputs": [],
   "source": [
    "trainpred = model.predict(X_train)"
   ]
  },
  {
   "cell_type": "code",
   "execution_count": 50,
   "metadata": {},
   "outputs": [
    {
     "data": {
      "text/plain": [
       "(7347088, 1)"
      ]
     },
     "execution_count": 50,
     "metadata": {},
     "output_type": "execute_result"
    }
   ],
   "source": [
    "trainpred.shape"
   ]
  },
  {
   "cell_type": "code",
   "execution_count": null,
   "metadata": {},
   "outputs": [],
   "source": [
    "y_train_inv = scaler_target.inverse_transform(y_train.reshape(1,-1))"
   ]
  },
  {
   "cell_type": "code",
   "execution_count": 30,
   "metadata": {},
   "outputs": [],
   "source": [
    "y_test_inv = scaler_target.inverse_transform(y_test.reshape(1, -1))"
   ]
  },
  {
   "cell_type": "code",
   "execution_count": 31,
   "metadata": {},
   "outputs": [],
   "source": [
    "y_pred_inv = scaler_target.inverse_transform(y_pred)"
   ]
  },
  {
   "cell_type": "code",
   "execution_count": 32,
   "metadata": {},
   "outputs": [
    {
     "name": "stdout",
     "output_type": "stream",
     "text": [
      "Test MAE: 14.207\n"
     ]
    }
   ],
   "source": [
    "# calculate MAE\n",
    "mae = sqrt(mean_absolute_error(y_test_inv.flatten(), y_pred_inv.flatten()))\n",
    "print('Test MAE: %.3f' % mae)"
   ]
  },
  {
   "cell_type": "code",
   "execution_count": 33,
   "metadata": {},
   "outputs": [
    {
     "name": "stdout",
     "output_type": "stream",
     "text": [
      "Test RMSE: 454.485\n"
     ]
    }
   ],
   "source": [
    "# calculate RMSE\n",
    "mse = sqrt(mean_squared_error(y_test_inv.flatten(), y_pred_inv.flatten()))\n",
    "print('Test RMSE: %.3f' % mse)"
   ]
  },
  {
   "cell_type": "code",
   "execution_count": 34,
   "metadata": {},
   "outputs": [
    {
     "data": {
      "image/png": "[encoded data removed]",
      "text/plain": [
       "<Figure size 432x288 with 1 Axes>"
      ]
     },
     "metadata": {
      "needs_background": "light"
     },
     "output_type": "display_data"
    }
   ],
   "source": [
    "def plot_prediction(train, train_inv, test, test_inv, pred_inv):\n",
    "    plt.plot(np.arange(0, len(train)), train_inv.flatten(), 'g', label=\"History\")\n",
    "    plt.plot(np.arange(len(train), len(train) + len(test)), test_inv.flatten(), marker='.', label=\"True\")\n",
    "    plt.plot(np.arange(len(train), len(train) + len(test)), pred_inv.flatten(), 'r', label=\"Prediction\")\n",
    "    plt.ylabel('Throughput')\n",
    "    plt.xlabel('Time Step')\n",
    "    plt.legend()\n",
    "    # plt.savefig(os.path.join('./plots', 'prediction.eps'))\n",
    "    plt.show();\n",
    "plot_prediction(y_train, y_train_inv, y_test, y_test_inv, y_pred_inv)"
   ]
  },
  {
   "cell_type": "code",
   "execution_count": 43,
   "metadata": {},
   "outputs": [
    {
     "data": {
      "image/png": "[encoded data removed]",
      "text/plain": [
       "<Figure size 432x288 with 1 Axes>"
      ]
     },
     "metadata": {
      "needs_background": "light"
     },
     "output_type": "display_data"
    }
   ],
   "source": [
    "def plot_prediction_(pred_inv, test_inv):\n",
    "    plt.plot(test_inv.flatten(), marker='.', label=\"True\")\n",
    "    plt.plot(pred_inv.flatten(), 'r', label=\"Prediction\")\n",
    "    plt.ylabel('Throughput')\n",
    "    plt.xlabel('Time Step')\n",
    "    plt.legend()\n",
    "    # plt.savefig(os.path.join('./plots', 'prediction_detail.eps'))\n",
    "    plt.show();\n",
    "plot_prediction_(y_pred_inv, y_test_inv)"
   ]
  },
  {
   "cell_type": "code",
   "execution_count": null,
   "metadata": {},
   "outputs": [],
   "source": [
    "# plot da perda do modelo"
   ]
  },
  {
   "cell_type": "code",
   "execution_count": 44,
   "metadata": {},
   "outputs": [
    {
     "data": {
      "image/png": "[encoded data removed]",
      "text/plain": [
       "<Figure size 432x288 with 1 Axes>"
      ]
     },
     "metadata": {
      "needs_background": "light"
     },
     "output_type": "display_data"
    }
   ],
   "source": [
    "def plot_mae(history):\n",
    "    # plot metrics\n",
    "    plt.plot(history.history['mean_absolute_error'], marker='.')\n",
    "    plt.plot(history.history['val_mean_absolute_error'], marker='.')\n",
    "    plt.ylabel('MAE')\n",
    "    plt.xlabel('epoch')\n",
    "    plt.grid()\n",
    "    plt.legend(['Treino', 'Validação'], loc='best')\n",
    "    # plt.savefig(os.path.join('./../plots', 'mae.eps'))\n",
    "    plt.show()\n",
    "    \n",
    "plot_mae(hist)"
   ]
  },
  {
   "cell_type": "code",
   "execution_count": 45,
   "metadata": {},
   "outputs": [
    {
     "data": {
      "image/png": "[encoded data removed]",
      "text/plain": [
       "<Figure size 432x288 with 1 Axes>"
      ]
     },
     "metadata": {
      "needs_background": "light"
     },
     "output_type": "display_data"
    }
   ],
   "source": [
    "def plot_mse(history):\n",
    "    # plot metrics\n",
    "    plt.plot(history.history['mean_squared_error'], marker='.')\n",
    "    plt.plot(history.history['val_mean_squared_error'], marker='.')\n",
    "    plt.ylabel('MSE')\n",
    "    plt.xlabel('epoch')\n",
    "    plt.grid()\n",
    "    plt.legend(['Treino', 'Validação'], loc='best')\n",
    "    # plt.savefig(os.path.join('./../plots', 'mse.eps'))\n",
    "    plt.show()\n",
    "    \n",
    "plot_mse(hist)"
   ]
  },
  {
   "cell_type": "code",
   "execution_count": 46,
   "metadata": {},
   "outputs": [
    {
     "data": {
      "image/png": "[encoded data removed]",
      "text/plain": [
       "<Figure size 432x288 with 1 Axes>"
      ]
     },
     "metadata": {
      "needs_background": "light"
     },
     "output_type": "display_data"
    }
   ],
   "source": [
    "def plot_loss(history):\n",
    "    #-----------------------------------------------------------\n",
    "    # Retrieve a list of list results on training and test data\n",
    "    # sets for each training epoch\n",
    "    #-----------------------------------------------------------\n",
    "    # loss=history.history['loss']\n",
    "    # val_loss=history.history['val_loss']\n",
    "    # epochs=range(len(loss)) # Get number of epochs\n",
    "    \n",
    "    plt.plot(history.history['loss'], label='training')\n",
    "    plt.plot(history.history['val_loss'], label='vaidation')\n",
    "    plt.xlabel(\"epochs\")\n",
    "    plt.ylabel(\"loss\")\n",
    "    plt.legend();\n",
    "    # plt.savefig(os.path.join('./plots', 'loss.eps'))\n",
    "\n",
    "    #------------------------------------------------\n",
    "    # Plot training and validation loss per epoch\n",
    "    #------------------------------------------------\n",
    "    # plt.plot(epochs, loss, val_loss)\n",
    "    # plt.title('Training loss')\n",
    "    # plt.xlabel(\"Epochs\")\n",
    "    # plt.ylabel(\"Loss\")\n",
    "    # plt.legend([\"Loss\"])\n",
    "    \n",
    "plot_loss(hist)"
   ]
  },
  {
   "cell_type": "code",
   "execution_count": 24,
   "metadata": {},
   "outputs": [],
   "source": [
    "# Generate predictions\n",
    "trainpred = model.predict(X_train)\n",
    "testpred = model.predict(X_val)"
   ]
  },
  {
   "cell_type": "code",
   "execution_count": 25,
   "metadata": {},
   "outputs": [],
   "source": [
    "# Convert predictions back to normal values\n",
    "trainpred = scaler_target.inverse_transform(trainpred.reshape()) # Train Series \n",
    "Y_train = scaler_target.inverse_transform([y_train]) # Train Throughput\n",
    "testpred = scaler_target.inverse_transform(testpred) # Val Series\n",
    "Y_test = scaler_target.inverse_transform([y_val]) # Val Throughput\n",
    "predictions = testpred"
   ]
  },
  {
   "cell_type": "code",
   "execution_count": 27,
   "metadata": {},
   "outputs": [
    {
     "name": "stdout",
     "output_type": "stream",
     "text": [
      "Train Score: 254.87 RMSE\n",
      "Test Score: 213.26 RMSE\n"
     ]
    }
   ],
   "source": [
    "# calculate RMSE\n",
    "trainScore = sqrt(mean_squared_error(Y_train[0], trainpred[:,0]))\n",
    "print('Train Score: %.2f RMSE' % (trainScore))\n",
    "testScore = sqrt(mean_squared_error(Y_test[0], testpred[:,0]))\n",
    "print('Test Score: %.2f RMSE' % (testScore))"
   ]
  },
  {
   "cell_type": "code",
   "execution_count": 29,
   "metadata": {},
   "outputs": [
    {
     "data": {
      "text/plain": [
       "(1, 7347088)"
      ]
     },
     "execution_count": 29,
     "metadata": {},
     "output_type": "execute_result"
    }
   ],
   "source": [
    "Y_train.shape"
   ]
  },
  {
   "cell_type": "code",
   "execution_count": 30,
   "metadata": {},
   "outputs": [],
   "source": [
    "trainScore = sqrt(mean_squared_error(Y_train.flatten(), trainpred.flatten()))"
   ]
  },
  {
   "cell_type": "code",
   "execution_count": 31,
   "metadata": {},
   "outputs": [
    {
     "data": {
      "text/plain": [
       "254.87174089503466"
      ]
     },
     "execution_count": 31,
     "metadata": {},
     "output_type": "execute_result"
    }
   ],
   "source": [
    "trainScore"
   ]
  },
  {
   "cell_type": "code",
   "execution_count": 32,
   "metadata": {},
   "outputs": [],
   "source": [
    "testScore = sqrt(mean_squared_error(Y_test.flatten(), testpred.flatten()))"
   ]
  }
 ],
 "metadata": {
  "kernelspec": {
   "display_name": "Python 3",
   "language": "python",
   "name": "python3"
  },
  "language_info": {
   "codemirror_mode": {
    "name": "ipython",
    "version": 3
   },
   "file_extension": ".py",
   "mimetype": "text/x-python",
   "name": "python",
   "nbconvert_exporter": "python",
   "pygments_lexer": "ipython3",
   "version": "3.5.2"
  }
 },
 "nbformat": 4,
 "nbformat_minor": 2
}
