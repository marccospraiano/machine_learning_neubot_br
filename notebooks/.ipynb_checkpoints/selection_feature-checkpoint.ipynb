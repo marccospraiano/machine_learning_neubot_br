{
 "cells": [
  {
   "cell_type": "code",
   "execution_count": 1,
   "metadata": {},
   "outputs": [],
   "source": [
    "from sklearn.feature_selection import SelectFromModel\n",
    "from sklearn.linear_model import LogisticRegression\n",
    "from sklearn.ensemble import RandomForestClassifier, RandomForestRegressor\n",
    "from sklearn.feature_selection import SelectKBest\n",
    "from sklearn.ensemble import ExtraTreesClassifier\n",
    "# from feature_selector import FeatureSelector\n",
    "from yellowbrick.target import FeatureCorrelation\n",
    "from sklearn.feature_selection import chi2\n",
    "from sklearn.feature_selection import RFE\n",
    "from sklearn.feature_selection import f_regression\n",
    "from lightgbm import LGBMClassifier\n",
    "from sklearn import preprocessing\n",
    "from statsmodels.graphics.tsaplots import plot_acf\n",
    "import matplotlib.pyplot as plt\n",
    "from sklearn import utils\n",
    "import seaborn as sns\n",
    "import pandas as pd\n",
    "import numpy as np"
   ]
  },
  {
   "cell_type": "code",
   "execution_count": 2,
   "metadata": {},
   "outputs": [],
   "source": [
    "dataset_throughput = pd.read_csv('../file/dataset_throughput.csv', header=0)"
   ]
  },
  {
   "cell_type": "code",
   "execution_count": 3,
   "metadata": {},
   "outputs": [],
   "source": [
    "dataset_throughput = dataset_throughput.drop(['timestamp'], axis=1)"
   ]
  },
  {
   "cell_type": "code",
   "execution_count": 4,
   "metadata": {},
   "outputs": [],
   "source": [
    "dataset = dataset_throughput.iloc[:10000, :]"
   ]
  },
  {
   "cell_type": "code",
   "execution_count": 5,
   "metadata": {},
   "outputs": [],
   "source": [
    "columTitles = ['delta_user_time', 'received', 'connect_time', 'rate', 'delta_sys_time', 'request_ticks', 'iteration', 'year', 'month', 'day', 'weekday', 'hour', 'minute', 'second', 'tcp_mean_wind', 'delay', 'downthpt']\n",
    "dataset = dataset.reindex(columns=columTitles)"
   ]
  },
  {
   "cell_type": "code",
   "execution_count": 6,
   "metadata": {},
   "outputs": [],
   "source": [
    "# split into input and output\n",
    "y = dataset['downthpt'].values\n",
    "X = dataset.drop(columns = ['downthpt']).values\n",
    "# y = y.astype('int')"
   ]
  },
  {
   "cell_type": "code",
   "execution_count": 14,
   "metadata": {},
   "outputs": [],
   "source": [
    "lab_enc = preprocessing.LabelEncoder()\n",
    "y = lab_enc.fit_transform(y)"
   ]
  },
  {
   "cell_type": "markdown",
   "metadata": {},
   "source": [
    "### Feature Importance"
   ]
  },
  {
   "cell_type": "markdown",
   "metadata": {},
   "source": [
    "RandomForestRegressor"
   ]
  },
  {
   "cell_type": "code",
   "execution_count": 8,
   "metadata": {},
   "outputs": [
    {
     "data": {
      "text/plain": [
       "RandomForestRegressor(bootstrap=True, criterion='mse', max_depth=None,\n",
       "                      max_features='auto', max_leaf_nodes=None,\n",
       "                      min_impurity_decrease=0.0, min_impurity_split=None,\n",
       "                      min_samples_leaf=1, min_samples_split=2,\n",
       "                      min_weight_fraction_leaf=0.0, n_estimators=200,\n",
       "                      n_jobs=None, oob_score=False, random_state=1, verbose=0,\n",
       "                      warm_start=False)"
      ]
     },
     "execution_count": 8,
     "metadata": {},
     "output_type": "execute_result"
    }
   ],
   "source": [
    "# split into input and output\n",
    "y = dataset['downthpt'].values\n",
    "X = dataset.drop(columns = ['downthpt']).values\n",
    "y = y.astype('int')\n",
    "\n",
    "model = RandomForestRegressor(n_estimators=200, random_state=1, verbose=0)\n",
    "model.fit(X, y)"
   ]
  },
  {
   "cell_type": "code",
   "execution_count": 9,
   "metadata": {},
   "outputs": [
    {
     "name": "stdout",
     "output_type": "stream",
     "text": [
      "[9.76762036e-04 1.40088174e-03 9.98404472e-02 1.32417438e-03\n",
      " 1.19939745e-04 3.69020410e-04 3.41006938e-04 0.00000000e+00\n",
      " 1.00229730e-04 2.85885705e-04 2.18453794e-04 3.59285886e-04\n",
      " 2.03486237e-04 3.85475944e-04 8.93584566e-01 4.90384511e-04]\n"
     ]
    }
   ],
   "source": [
    "# show importance scores\n",
    "print(model.feature_importances_)"
   ]
  },
  {
   "cell_type": "code",
   "execution_count": 10,
   "metadata": {},
   "outputs": [
    {
     "name": "stderr",
     "output_type": "stream",
     "text": [
      "/usr/local/lib/python3.5/dist-packages/matplotlib/font_manager.py:1241: UserWarning: findfont: Font family ['sans-serif'] not found. Falling back to DejaVu Sans.\n",
      "  (prop.get_family(), self.defaultFamily[fontext]))\n"
     ]
    },
    {
     "data": {
      "image/png": "[encoded data removed]",
      "text/plain": [
       "<Figure size 432x288 with 1 Axes>"
      ]
     },
     "metadata": {
      "needs_background": "light"
     },
     "output_type": "display_data"
    }
   ],
   "source": [
    "feat_import_rfr = pd.Series(model.feature_importances_, index=dataset.columns.values[0:-1])\n",
    "feat_import_rfr.plot(kind='barh')\n",
    "plt.show()"
   ]
  },
  {
   "cell_type": "markdown",
   "metadata": {},
   "source": [
    "ExtraTreesClassifier"
   ]
  },
  {
   "cell_type": "code",
   "execution_count": 6,
   "metadata": {},
   "outputs": [
    {
     "name": "stderr",
     "output_type": "stream",
     "text": [
      "[Parallel(n_jobs=1)]: Using backend SequentialBackend with 1 concurrent workers.\n",
      "[Parallel(n_jobs=1)]: Done 200 out of 200 | elapsed:   46.3s finished\n"
     ]
    },
    {
     "data": {
      "text/plain": [
       "ExtraTreesClassifier(bootstrap=False, class_weight=None, criterion='gini',\n",
       "                     max_depth=None, max_features='auto', max_leaf_nodes=None,\n",
       "                     min_impurity_decrease=0.0, min_impurity_split=None,\n",
       "                     min_samples_leaf=1, min_samples_split=2,\n",
       "                     min_weight_fraction_leaf=0.0, n_estimators=200,\n",
       "                     n_jobs=None, oob_score=False, random_state=1, verbose=1,\n",
       "                     warm_start=False)"
      ]
     },
     "execution_count": 6,
     "metadata": {},
     "output_type": "execute_result"
    }
   ],
   "source": [
    "# split into input and output\n",
    "y = dataset['downthpt']\n",
    "X = dataset.drop(columns = ['downthpt'])\n",
    "y = y.astype('int')\n",
    "\n",
    "model = ExtraTreesClassifier(n_estimators=200, random_state=1, verbose=1)\n",
    "model.fit(X,y)"
   ]
  },
  {
   "cell_type": "code",
   "execution_count": 8,
   "metadata": {},
   "outputs": [
    {
     "name": "stdout",
     "output_type": "stream",
     "text": [
      "[0.03947677 0.0370589  0.07993014 0.03729373 0.02847843 0.06925872\n",
      " 0.08522107 0.         0.0445015  0.06374087 0.05358225 0.06562695\n",
      " 0.07073223 0.09642858 0.11617011 0.11249974]\n"
     ]
    },
    {
     "name": "stderr",
     "output_type": "stream",
     "text": [
      "/usr/local/lib/python3.5/dist-packages/matplotlib/font_manager.py:1241: UserWarning: findfont: Font family ['sans-serif'] not found. Falling back to DejaVu Sans.\n",
      "  (prop.get_family(), self.defaultFamily[fontext]))\n"
     ]
    },
    {
     "data": {
      "image/png": "[encoded data removed]",
      "text/plain": [
       "<Figure size 432x288 with 1 Axes>"
      ]
     },
     "metadata": {
      "needs_background": "light"
     },
     "output_type": "display_data"
    }
   ],
   "source": [
    "print(model.feature_importances_) # use inbuilt class feature_importances of tree based classifiers\n",
    "# plot graph of feature importances for better visualization\n",
    "feat_importances = pd.Series(model.feature_importances_, index=X.columns)\n",
    "feat_importances.nlargest(17).plot(kind='barh')\n",
    "plt.xlabel('Escore')\n",
    "plt.savefig('../feat_import_extra_tree.pdf')\n",
    "plt.show()"
   ]
  },
  {
   "cell_type": "markdown",
   "metadata": {},
   "source": [
    "### Selection Feature"
   ]
  },
  {
   "cell_type": "markdown",
   "metadata": {},
   "source": [
    "Recursive Feature Selection (RFE)\n",
    "> Given an external estimator that assigns weights to features (e.g., the coefficients of a linear model), the goal of recursive feature elimination (RFE) is to select features by recursively considering smaller and smaller sets of features"
   ]
  },
  {
   "cell_type": "code",
   "execution_count": 19,
   "metadata": {},
   "outputs": [
    {
     "name": "stdout",
     "output_type": "stream",
     "text": [
      "Selected Features:\n",
      "received\n",
      "connect_time\n",
      "rate\n",
      "request_ticks\n",
      "iteration\n",
      "day\n",
      "hour\n",
      "second\n",
      "tcp_mean_wind\n",
      "delay\n"
     ]
    }
   ],
   "source": [
    "# perform feature selection\n",
    "rfe = RFE(RandomForestRegressor(n_estimators=200, random_state=1), 10)\n",
    "fit_rfe = rfe.fit(X, y)\n",
    "\n",
    "# report selected features\n",
    "print('Selected Features:')\n",
    "names = dataset.columns.values[0:-1]\n",
    "for i in range(len(fit_rfe.support_)):\n",
    "    if fit_rfe.support_[i]:\n",
    "        print(names[i])"
   ]
  },
  {
   "cell_type": "code",
   "execution_count": 25,
   "metadata": {},
   "outputs": [
    {
     "data": {
      "image/png": "[encoded data removed]",
      "text/plain": [
       "<Figure size 432x288 with 1 Axes>"
      ]
     },
     "metadata": {
      "needs_background": "light"
     },
     "output_type": "display_data"
    }
   ],
   "source": [
    "feat_select = pd.Series(fit_rfe.ranking_, index=dataset.columns.values[0:-1])\n",
    "feat_select.nlargest(17).plot(kind='barh')\n",
    "plt.xlabel('Escore')\n",
    "plt.savefig('../feat_selec_rfe.eps')\n",
    "plt.show()"
   ]
  },
  {
   "cell_type": "markdown",
   "metadata": {},
   "source": [
    "Pearson Correlation"
   ]
  },
  {
   "cell_type": "code",
   "execution_count": 7,
   "metadata": {},
   "outputs": [],
   "source": [
    "# Create a list of the feature names\n",
    "features = dataset.columns.values[0:-1]"
   ]
  },
  {
   "cell_type": "code",
   "execution_count": 22,
   "metadata": {},
   "outputs": [
    {
     "name": "stderr",
     "output_type": "stream",
     "text": [
      "/usr/local/lib/python3.5/dist-packages/scipy/stats/stats.py:3399: PearsonRConstantInputWarning: An input array is constant; the correlation coefficent is not defined.\n",
      "  warnings.warn(PearsonRConstantInputWarning())\n"
     ]
    },
    {
     "data": {
      "image/png": "[encoded data removed]",
      "text/plain": [
       "<Figure size 432x288 with 1 Axes>"
      ]
     },
     "metadata": {
      "needs_background": "light"
     },
     "output_type": "display_data"
    }
   ],
   "source": [
    "# Instantiate the visualizer\n",
    "visualizer = FeatureCorrelation(labels=features)\n",
    "\n",
    "visualizer.fit(X, y)        # Fit the data to the visualizer\n",
    "corr_pearson = visualizer\n",
    "plt.xlabel('Correlação de Pearson')\n",
    "plt.savefig('../feat_selec_pearson_corr.pdf')\n",
    "# visualizer.show()         # Finalize and render the figure\n",
    "plt.show()"
   ]
  },
  {
   "cell_type": "markdown",
   "metadata": {},
   "source": [
    "Mutual Information - Regression"
   ]
  },
  {
   "cell_type": "markdown",
   "metadata": {},
   "source": [
    ">Estimate mutual information for a continuous target variable.\n",
    "Mutual information (MI) between two random variables is a non-negative value, which measures the dependency between the variables. It is equal to zero if and only if two random variables are independent, and higher values mean higher dependency.\n",
    "\n",
    "> This visualization can be used in feature selection to identify features with high correlation or large mutual information with the dependent variable."
   ]
  },
  {
   "cell_type": "code",
   "execution_count": 48,
   "metadata": {},
   "outputs": [
    {
     "data": {
      "image/png": "[encoded data removed]",
      "text/plain": [
       "<Figure size 432x288 with 1 Axes>"
      ]
     },
     "metadata": {
      "needs_background": "light"
     },
     "output_type": "display_data"
    }
   ],
   "source": [
    "# Create a list of the feature names\n",
    "features = dataset.columns.values[0:-1]\n",
    "\n",
    "# Create a list of the discrete features\n",
    "discrete = [False for _ in range(len(features))]\n",
    "discrete[1] = True\n",
    "\n",
    "# Instantiate the visualizer\n",
    "visualizer = FeatureCorrelation(method='mutual_info-regression', labels=features)\n",
    "\n",
    "visualizer.fit(X, y, discrete_features=discrete, random_state=1)\n",
    "inf_mutual_reg = visualizer\n",
    "plt.xlabel('Informação Mutual')\n",
    "plt.savefig('../feat_selec_mutual_infor.pdf')\n",
    "# visualizer.show()\n",
    "plt.show()"
   ]
  },
  {
   "cell_type": "markdown",
   "metadata": {},
   "source": [
    "sklearn.feature_selection.f_regression()\n",
    "> Linear model for testing the individual effect of each of many regressors. This is a scoring function to be used in a feature selection procedure, not a free standing feature selection procedure."
   ]
  },
  {
   "cell_type": "code",
   "execution_count": 37,
   "metadata": {},
   "outputs": [
    {
     "name": "stderr",
     "output_type": "stream",
     "text": [
      "/usr/local/lib/python3.5/dist-packages/sklearn/feature_selection/univariate_selection.py:299: RuntimeWarning: divide by zero encountered in true_divide\n",
      "  corr /= X_norms\n",
      "/usr/local/lib/python3.5/dist-packages/sklearn/feature_selection/univariate_selection.py:304: RuntimeWarning: invalid value encountered in true_divide\n",
      "  F = corr ** 2 / (1 - corr ** 2) * degrees_of_freedom\n",
      "/usr/local/lib/python3.5/dist-packages/scipy/stats/_distn_infrastructure.py:901: RuntimeWarning: invalid value encountered in greater\n",
      "  return (a < x) & (x < b)\n",
      "/usr/local/lib/python3.5/dist-packages/scipy/stats/_distn_infrastructure.py:901: RuntimeWarning: invalid value encountered in less\n",
      "  return (a < x) & (x < b)\n",
      "/usr/local/lib/python3.5/dist-packages/scipy/stats/_distn_infrastructure.py:1892: RuntimeWarning: invalid value encountered in less_equal\n",
      "  cond2 = cond0 & (x <= _a)\n"
     ]
    }
   ],
   "source": [
    "def f_test(x, y, feature_names, p_cutoff = 0.05):\n",
    "\n",
    "    from sklearn.feature_selection import f_regression\n",
    "\n",
    "    num_features = len(feature_names)\n",
    "\n",
    "    raw_scores, p_values = f_regression(x, y)\n",
    "\n",
    "    scores = np.zeros(num_features)\n",
    "\n",
    "    #just keep non statistically significant scores at 0\n",
    "    for i in range(num_features):\n",
    "        if (p_values[i] < p_cutoff):\n",
    "            scores[i] = raw_scores[i]\n",
    "\n",
    "    return scores, feature_names\n",
    "\n",
    "score, feat = f_test(X, y, features, p_cutoff = 0.42)"
   ]
  },
  {
   "cell_type": "code",
   "execution_count": 38,
   "metadata": {},
   "outputs": [
    {
     "data": {
      "image/png": "[encoded data removed]",
      "text/plain": [
       "<Figure size 576x360 with 1 Axes>"
      ]
     },
     "metadata": {
      "needs_background": "light"
     },
     "output_type": "display_data"
    }
   ],
   "source": [
    "# plot feature rank\n",
    "feat_select = pd.Series(score, index=features)\n",
    "plt.figure(figsize=(8,5))\n",
    "feat_select.plot(kind='barh')\n",
    "plt.show()"
   ]
  },
  {
   "cell_type": "code",
   "execution_count": 78,
   "metadata": {},
   "outputs": [],
   "source": [
    "# dictionary of lists \n",
    "dict = {'F_Regression':score,\n",
    "        'Person':corr_pearson.scores_,\n",
    "        'MI':inf_mutual.scores_,\n",
    "        'Caracteristicas':features,\n",
    "        'RFE':feat_select.values} "
   ]
  },
  {
   "cell_type": "code",
   "execution_count": 79,
   "metadata": {},
   "outputs": [
    {
     "data": {
      "text/html": [
       "<div>\n",
       "<style scoped>\n",
       "    .dataframe tbody tr th:only-of-type {\n",
       "        vertical-align: middle;\n",
       "    }\n",
       "\n",
       "    .dataframe tbody tr th {\n",
       "        vertical-align: top;\n",
       "    }\n",
       "\n",
       "    .dataframe thead th {\n",
       "        text-align: right;\n",
       "    }\n",
       "</style>\n",
       "<table border=\"1\" class=\"dataframe\">\n",
       "  <thead>\n",
       "    <tr style=\"text-align: right;\">\n",
       "      <th></th>\n",
       "      <th>Caracteristicas</th>\n",
       "      <th>F_Regression</th>\n",
       "      <th>MI</th>\n",
       "      <th>Person</th>\n",
       "      <th>RFE</th>\n",
       "    </tr>\n",
       "  </thead>\n",
       "  <tbody>\n",
       "    <tr>\n",
       "      <th>0</th>\n",
       "      <td>delta_user_time</td>\n",
       "      <td>7575.714918</td>\n",
       "      <td>0.441364</td>\n",
       "      <td>0.656568</td>\n",
       "      <td>7575.714918</td>\n",
       "    </tr>\n",
       "    <tr>\n",
       "      <th>1</th>\n",
       "      <td>received</td>\n",
       "      <td>33737.432486</td>\n",
       "      <td>1.038637</td>\n",
       "      <td>0.878293</td>\n",
       "      <td>33737.432486</td>\n",
       "    </tr>\n",
       "    <tr>\n",
       "      <th>2</th>\n",
       "      <td>connect_time</td>\n",
       "      <td>612.402573</td>\n",
       "      <td>0.408780</td>\n",
       "      <td>-0.240244</td>\n",
       "      <td>612.402573</td>\n",
       "    </tr>\n",
       "    <tr>\n",
       "      <th>3</th>\n",
       "      <td>rate</td>\n",
       "      <td>33737.417207</td>\n",
       "      <td>1.036739</td>\n",
       "      <td>0.878293</td>\n",
       "      <td>33737.417207</td>\n",
       "    </tr>\n",
       "    <tr>\n",
       "      <th>4</th>\n",
       "      <td>delta_sys_time</td>\n",
       "      <td>8413.806223</td>\n",
       "      <td>0.343927</td>\n",
       "      <td>0.676002</td>\n",
       "      <td>8413.806223</td>\n",
       "    </tr>\n",
       "    <tr>\n",
       "      <th>5</th>\n",
       "      <td>request_ticks</td>\n",
       "      <td>8.353020</td>\n",
       "      <td>0.292243</td>\n",
       "      <td>-0.028892</td>\n",
       "      <td>8.353020</td>\n",
       "    </tr>\n",
       "    <tr>\n",
       "      <th>6</th>\n",
       "      <td>iteration</td>\n",
       "      <td>231.074744</td>\n",
       "      <td>0.167442</td>\n",
       "      <td>0.150300</td>\n",
       "      <td>231.074744</td>\n",
       "    </tr>\n",
       "    <tr>\n",
       "      <th>7</th>\n",
       "      <td>year</td>\n",
       "      <td>0.000000</td>\n",
       "      <td>0.000000</td>\n",
       "      <td>NaN</td>\n",
       "      <td>0.000000</td>\n",
       "    </tr>\n",
       "    <tr>\n",
       "      <th>8</th>\n",
       "      <td>month</td>\n",
       "      <td>12.118260</td>\n",
       "      <td>0.038729</td>\n",
       "      <td>-0.034794</td>\n",
       "      <td>12.118260</td>\n",
       "    </tr>\n",
       "    <tr>\n",
       "      <th>9</th>\n",
       "      <td>day</td>\n",
       "      <td>12.750674</td>\n",
       "      <td>0.112815</td>\n",
       "      <td>0.035689</td>\n",
       "      <td>12.750674</td>\n",
       "    </tr>\n",
       "    <tr>\n",
       "      <th>10</th>\n",
       "      <td>weekday</td>\n",
       "      <td>270.629746</td>\n",
       "      <td>0.056719</td>\n",
       "      <td>0.162342</td>\n",
       "      <td>270.629746</td>\n",
       "    </tr>\n",
       "    <tr>\n",
       "      <th>11</th>\n",
       "      <td>hour</td>\n",
       "      <td>224.746026</td>\n",
       "      <td>0.113058</td>\n",
       "      <td>-0.148273</td>\n",
       "      <td>224.746026</td>\n",
       "    </tr>\n",
       "    <tr>\n",
       "      <th>12</th>\n",
       "      <td>minute</td>\n",
       "      <td>36.997081</td>\n",
       "      <td>0.098007</td>\n",
       "      <td>-0.060719</td>\n",
       "      <td>36.997081</td>\n",
       "    </tr>\n",
       "    <tr>\n",
       "      <th>13</th>\n",
       "      <td>second</td>\n",
       "      <td>4.691253</td>\n",
       "      <td>0.013628</td>\n",
       "      <td>0.021656</td>\n",
       "      <td>4.691253</td>\n",
       "    </tr>\n",
       "    <tr>\n",
       "      <th>14</th>\n",
       "      <td>tcp_mean_wind</td>\n",
       "      <td>28304.986452</td>\n",
       "      <td>1.506101</td>\n",
       "      <td>0.859637</td>\n",
       "      <td>28304.986452</td>\n",
       "    </tr>\n",
       "    <tr>\n",
       "      <th>15</th>\n",
       "      <td>delay</td>\n",
       "      <td>159.524957</td>\n",
       "      <td>0.326820</td>\n",
       "      <td>-0.125320</td>\n",
       "      <td>159.524957</td>\n",
       "    </tr>\n",
       "  </tbody>\n",
       "</table>\n",
       "</div>"
      ],
      "text/plain": [
       "    Caracteristicas  F_Regression        MI    Person           RFE\n",
       "0   delta_user_time   7575.714918  0.441364  0.656568   7575.714918\n",
       "1          received  33737.432486  1.038637  0.878293  33737.432486\n",
       "2      connect_time    612.402573  0.408780 -0.240244    612.402573\n",
       "3              rate  33737.417207  1.036739  0.878293  33737.417207\n",
       "4    delta_sys_time   8413.806223  0.343927  0.676002   8413.806223\n",
       "5     request_ticks      8.353020  0.292243 -0.028892      8.353020\n",
       "6         iteration    231.074744  0.167442  0.150300    231.074744\n",
       "7              year      0.000000  0.000000       NaN      0.000000\n",
       "8             month     12.118260  0.038729 -0.034794     12.118260\n",
       "9               day     12.750674  0.112815  0.035689     12.750674\n",
       "10          weekday    270.629746  0.056719  0.162342    270.629746\n",
       "11             hour    224.746026  0.113058 -0.148273    224.746026\n",
       "12           minute     36.997081  0.098007 -0.060719     36.997081\n",
       "13           second      4.691253  0.013628  0.021656      4.691253\n",
       "14    tcp_mean_wind  28304.986452  1.506101  0.859637  28304.986452\n",
       "15            delay    159.524957  0.326820 -0.125320    159.524957"
      ]
     },
     "execution_count": 79,
     "metadata": {},
     "output_type": "execute_result"
    }
   ],
   "source": [
    "score_feat = pd.DataFrame(dict)\n",
    "score_feat"
   ]
  },
  {
   "cell_type": "code",
   "execution_count": null,
   "metadata": {},
   "outputs": [],
   "source": []
  }
 ],
 "metadata": {
  "kernelspec": {
   "display_name": "Python 3",
   "language": "python",
   "name": "python3"
  },
  "language_info": {
   "codemirror_mode": {
    "name": "ipython",
    "version": 3
   },
   "file_extension": ".py",
   "mimetype": "text/x-python",
   "name": "python",
   "nbconvert_exporter": "python",
   "pygments_lexer": "ipython3",
   "version": "3.5.2"
  }
 },
 "nbformat": 4,
 "nbformat_minor": 2
}
