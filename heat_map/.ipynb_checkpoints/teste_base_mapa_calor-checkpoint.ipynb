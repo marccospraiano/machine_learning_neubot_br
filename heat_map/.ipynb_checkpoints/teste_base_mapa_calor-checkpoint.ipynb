{
 "cells": [
  {
   "cell_type": "code",
   "execution_count": null,
   "metadata": {},
   "outputs": [],
   "source": [
    "import matplotlib.pyplot as plt\n",
    "import pandas as pd\n",
    "import numpy as np\n",
    "import os\n",
    "import requests\n",
    "import urllib.request\n",
    "import json"
   ]
  },
  {
   "cell_type": "markdown",
   "metadata": {},
   "source": [
    "### Carregando a base"
   ]
  },
  {
   "cell_type": "code",
   "execution_count": null,
   "metadata": {},
   "outputs": [],
   "source": [
    "base_2016 = pd.read_json(\"http://vod.icomp.ufam.edu.br/video_dataset/base_dados_marccos/br2016.json\")"
   ]
  },
  {
   "cell_type": "code",
   "execution_count": null,
   "metadata": {},
   "outputs": [],
   "source": [
    "base_2016.shape"
   ]
  },
  {
   "cell_type": "code",
   "execution_count": null,
   "metadata": {},
   "outputs": [],
   "source": [
    "base_2017['city'].dropna(inplace=True)"
   ]
  },
  {
   "cell_type": "code",
   "execution_count": null,
   "metadata": {},
   "outputs": [],
   "source": [
    "obter_cidade = base_2015[base_2015['city'].str.contains(\"São Paulo\" or \"Belo Horizonte\" or \"Rio de Janeiro\")]"
   ]
  },
  {
   "cell_type": "code",
   "execution_count": null,
   "metadata": {},
   "outputs": [],
   "source": [
    "obter_cidade"
   ]
  },
  {
   "cell_type": "code",
   "execution_count": null,
   "metadata": {},
   "outputs": [],
   "source": [
    "#cria Session\n",
    "print(\"criando session...\")\n",
    "\n",
    "base_2015.sort_values(['uuid','timestamp', 'iteration'], inplace = True)\n",
    "\n",
    "base_2015['session'] = base_2015['iteration']\n",
    "\n",
    "val = base_2015.uuid.value_counts()\n",
    "val = val.index\n",
    "\n",
    "cont = -1\n",
    "aux = base_2015[base_2015['uuid'] == val[0]]\n",
    "x2 = aux.index\n",
    "x2 = x2[0]    \n",
    "for i in val:\n",
    "    aux = base_2015[base_2015['uuid'] == i]\n",
    "    for x in aux.index:\n",
    "        if base_2015.iteration.loc[x] <= base_2015.iteration.loc[x2]:\n",
    "            cont += 1\n",
    "        base_2015.session.loc[x] = cont\n",
    "        x2 = x"
   ]
  },
  {
   "cell_type": "code",
   "execution_count": null,
   "metadata": {},
   "outputs": [],
   "source": [
    "#cria heatmap\n",
    "df_heatmap = df.pivot_table(values='session',index='weekday',columns='hour')\n",
    "df_heatmap.rename({0:'seg', 1:'ter', 2:'qua', 3:'qui', 4:'sex', 5:'sab', 6:'dom'}, inplace=True)\n",
    "sns.heatmap(df_heatmap,cmap='Reds',linecolor='white',linewidths=1)"
   ]
  },
  {
   "cell_type": "code",
   "execution_count": null,
   "metadata": {},
   "outputs": [],
   "source": []
  }
 ],
 "metadata": {
  "kernelspec": {
   "display_name": "Python 3",
   "language": "python",
   "name": "python3"
  },
  "language_info": {
   "codemirror_mode": {
    "name": "ipython",
    "version": 3
   },
   "file_extension": ".py",
   "mimetype": "text/x-python",
   "name": "python",
   "nbconvert_exporter": "python",
   "pygments_lexer": "ipython3",
   "version": "3.5.2"
  }
 },
 "nbformat": 4,
 "nbformat_minor": 2
}
