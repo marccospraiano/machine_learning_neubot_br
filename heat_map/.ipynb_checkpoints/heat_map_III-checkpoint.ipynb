{
 "cells": [
  {
   "cell_type": "code",
   "execution_count": 1,
   "metadata": {},
   "outputs": [],
   "source": [
    "import matplotlib.pyplot as plt\n",
    "%matplotlib inline\n",
    "# %config InlineBackend.figure_formats = ['svg']\n",
    "import pandas as pd\n",
    "import numpy as np\n",
    "import os\n",
    "# from datetime import datetime, timezone\n",
    "import datetime\n",
    "import requests\n",
    "import urllib.request\n",
    "import json\n",
    "import seaborn as sns"
   ]
  },
  {
   "cell_type": "code",
   "execution_count": 2,
   "metadata": {},
   "outputs": [],
   "source": [
    "def altera_hora(base_1):\n",
    "    base_1['timestamp'] = base_1['timestamp'] - datetime.timedelta(hours=4)\n",
    "    return base_1"
   ]
  },
  {
   "cell_type": "code",
   "execution_count": 44,
   "metadata": {},
   "outputs": [],
   "source": [
    "def mapa_calor(dataframe, title):\n",
    "    # cria heatmap \n",
    "    # df_heatmap  = dataframe.pivot_table(values='session', index='day_of_week', columns='')\n",
    "    df_heatmap = dataframe.pivot_table(values='session', index=['hour'], columns=['second'])\n",
    "    # df_heatmap.rename({0:'seg', 1:'ter', 2:'qua', 3:'qui', 4:'sex', 5:'sab', 6:'dom'}, inplace=True)\n",
    "    sns.heatmap(data=df_heatmap, cbar=True)\n",
    "    # sns.heatmap(df_heatmap, cmap='Reds',linecolor='white',linewidths=0.1)\n",
    "    plt.title(title)\n",
    "    plt.xlabel('Segundos', fontsize=None)\n",
    "    plt.ylabel('Hora', fontsize=None)\n",
    "    plt.savefig(str(title)+'.eps' ,format='eps')\n",
    "    plt.show()"
   ]
  },
  {
   "cell_type": "markdown",
   "metadata": {},
   "source": [
    "### carregando a base em csv"
   ]
  },
  {
   "cell_type": "code",
   "execution_count": 4,
   "metadata": {},
   "outputs": [],
   "source": [
    "# base_2016 = pd.read_json(\"http://vod.icomp.ufam.edu.br/video_dataset/base_dados_marccos/br2016.json\")"
   ]
  },
  {
   "cell_type": "code",
   "execution_count": 5,
   "metadata": {},
   "outputs": [
    {
     "data": {
      "text/plain": [
       "(647761, 21)"
      ]
     },
     "execution_count": 5,
     "metadata": {},
     "output_type": "execute_result"
    }
   ],
   "source": [
    "base_2015 = pd.read_csv('base_sessao_2015_2.csv')\n",
    "base_2015['timestamp']= pd.to_datetime(base_2015['timestamp'])\n",
    "base_2015 = altera_hora(base_2015)\n",
    "type(base_2015)\n",
    "base_2015.shape"
   ]
  },
  {
   "cell_type": "code",
   "execution_count": 6,
   "metadata": {},
   "outputs": [
    {
     "data": {
      "text/plain": [
       "(647262, 21)"
      ]
     },
     "execution_count": 6,
     "metadata": {},
     "output_type": "execute_result"
    }
   ],
   "source": [
    "base_2016 = pd.read_csv('base_sessao_2016.csv')\n",
    "base_2016['timestamp']= pd.to_datetime(base_2016['timestamp'])\n",
    "base_2016 = altera_hora(base_2016)\n",
    "type(base_2016)\n",
    "base_2016.shape"
   ]
  },
  {
   "cell_type": "code",
   "execution_count": 7,
   "metadata": {},
   "outputs": [
    {
     "data": {
      "text/plain": [
       "(162037, 26)"
      ]
     },
     "execution_count": 7,
     "metadata": {},
     "output_type": "execute_result"
    }
   ],
   "source": [
    "base_2017_1 = pd.read_csv('base_sessao_2017_full.csv')\n",
    "base_2017_2 = pd.read_csv('base_sessao_2017.csv')\n",
    "base_2017 = base_2017_1.append(base_2017_2, ignore_index= True, sort=False)\n",
    "base_2017['timestamp']= pd.to_datetime(base_2017['timestamp'])\n",
    "base_2017 = altera_hora(base_2017)\n",
    "type(base_2017)\n",
    "base_2017.shape"
   ]
  },
  {
   "cell_type": "code",
   "execution_count": 8,
   "metadata": {},
   "outputs": [
    {
     "data": {
      "text/plain": [
       "(8391, 26)"
      ]
     },
     "execution_count": 8,
     "metadata": {},
     "output_type": "execute_result"
    }
   ],
   "source": [
    "base_2018 = pd.read_csv('base_sessao_2018.csv')\n",
    "base_2018['timestamp']= pd.to_datetime(base_2018['timestamp'])\n",
    "base_2018 = altera_hora(base_2018)\n",
    "type(base_2018)\n",
    "base_2018.shape"
   ]
  },
  {
   "cell_type": "markdown",
   "metadata": {},
   "source": [
    "### concatena os dataframes"
   ]
  },
  {
   "cell_type": "code",
   "execution_count": 9,
   "metadata": {},
   "outputs": [],
   "source": [
    "base_sessao1 = base_2015.append(base_2016, ignore_index=True,sort=False)"
   ]
  },
  {
   "cell_type": "code",
   "execution_count": 10,
   "metadata": {},
   "outputs": [
    {
     "data": {
      "text/plain": [
       "(1295023, 21)"
      ]
     },
     "execution_count": 10,
     "metadata": {},
     "output_type": "execute_result"
    }
   ],
   "source": [
    "base_sessao1.shape"
   ]
  },
  {
   "cell_type": "code",
   "execution_count": 11,
   "metadata": {},
   "outputs": [],
   "source": [
    "base_sessao2 = base_sessao1.append(base_2017, ignore_index=True,sort=False)"
   ]
  },
  {
   "cell_type": "code",
   "execution_count": 12,
   "metadata": {},
   "outputs": [
    {
     "data": {
      "text/plain": [
       "(1457060, 26)"
      ]
     },
     "execution_count": 12,
     "metadata": {},
     "output_type": "execute_result"
    }
   ],
   "source": [
    "base_sessao2.shape"
   ]
  },
  {
   "cell_type": "code",
   "execution_count": 13,
   "metadata": {},
   "outputs": [],
   "source": [
    "base_sessao = base_sessao2.append(base_2018, ignore_index=True, sort=False)"
   ]
  },
  {
   "cell_type": "code",
   "execution_count": 14,
   "metadata": {},
   "outputs": [
    {
     "data": {
      "text/plain": [
       "(1465451, 26)"
      ]
     },
     "execution_count": 14,
     "metadata": {},
     "output_type": "execute_result"
    }
   ],
   "source": [
    "base_sessao.shape"
   ]
  },
  {
   "cell_type": "code",
   "execution_count": 15,
   "metadata": {},
   "outputs": [],
   "source": [
    "base_sessao['day'] = base_sessao['timestamp'].dt.day\n",
    "base_sessao['weekday'] = base_sessao['timestamp'].dt.weekday\n",
    "base_sessao['month'] = base_sessao['timestamp'].dt.month\n",
    "base_sessao['year'] = base_sessao['timestamp'].dt.year\n",
    "base_sessao['hour'] = base_sessao['timestamp'].dt.hour\n",
    "base_sessao['second'] = base_sessao['timestamp'].dt.second"
   ]
  },
  {
   "cell_type": "code",
   "execution_count": 16,
   "metadata": {},
   "outputs": [],
   "source": [
    "nomes_indices = base_sessao[base_sessao['year']==2008].index"
   ]
  },
  {
   "cell_type": "code",
   "execution_count": 19,
   "metadata": {},
   "outputs": [],
   "source": [
    "base_sessao.drop(nomes_indices, inplace=True)"
   ]
  },
  {
   "cell_type": "markdown",
   "metadata": {},
   "source": [
    "### Mapas de calor"
   ]
  },
  {
   "cell_type": "code",
   "execution_count": 26,
   "metadata": {},
   "outputs": [],
   "source": [
    "mapa_calor_sp = base_sessao.loc[base_sessao['city'] == 'São Paulo']"
   ]
  },
  {
   "cell_type": "code",
   "execution_count": 45,
   "metadata": {},
   "outputs": [
    {
     "data": {
      "image/png": "[encoded data removed]",
      "text/plain": [
       "<Figure size 432x288 with 2 Axes>"
      ]
     },
     "metadata": {
      "needs_background": "light"
     },
     "output_type": "display_data"
    }
   ],
   "source": [
    "mapa_calor(mapa_calor_sp, 'Sao Paulo')"
   ]
  },
  {
   "cell_type": "code",
   "execution_count": 28,
   "metadata": {},
   "outputs": [],
   "source": [
    "mapa_calor_bh = base_sessao.loc[base_sessao['city'] == 'Belo Horizonte']"
   ]
  },
  {
   "cell_type": "code",
   "execution_count": 46,
   "metadata": {},
   "outputs": [
    {
     "data": {
      "image/png": "[encoded data removed]",
      "text/plain": [
       "<Figure size 432x288 with 2 Axes>"
      ]
     },
     "metadata": {
      "needs_background": "light"
     },
     "output_type": "display_data"
    }
   ],
   "source": [
    "mapa_calor(mapa_calor_bh, 'Belo Horizonte')"
   ]
  },
  {
   "cell_type": "code",
   "execution_count": 30,
   "metadata": {},
   "outputs": [],
   "source": [
    "mapa_calor_rj = base_sessao.loc[base_sessao['city'] == 'Rio de Janeiro']"
   ]
  },
  {
   "cell_type": "code",
   "execution_count": 47,
   "metadata": {},
   "outputs": [
    {
     "data": {
      "image/png": "[encoded data removed]",
      "text/plain": [
       "<Figure size 432x288 with 2 Axes>"
      ]
     },
     "metadata": {
      "needs_background": "light"
     },
     "output_type": "display_data"
    }
   ],
   "source": [
    "mapa_calor(mapa_calor_rj, 'Rio de Janeiro')"
   ]
  },
  {
   "cell_type": "code",
   "execution_count": null,
   "metadata": {},
   "outputs": [],
   "source": []
  }
 ],
 "metadata": {
  "kernelspec": {
   "display_name": "Python 3",
   "language": "python",
   "name": "python3"
  },
  "language_info": {
   "codemirror_mode": {
    "name": "ipython",
    "version": 3
   },
   "file_extension": ".py",
   "mimetype": "text/x-python",
   "name": "python",
   "nbconvert_exporter": "python",
   "pygments_lexer": "ipython3",
   "version": "3.5.2"
  }
 },
 "nbformat": 4,
 "nbformat_minor": 2
}
